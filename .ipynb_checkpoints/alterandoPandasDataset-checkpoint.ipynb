{
 "cells": [
  {
   "cell_type": "code",
   "execution_count": 1,
   "metadata": {},
   "outputs": [],
   "source": [
    "import pandas as pd\n",
    "\n",
    "dataset = pd.read_csv('kc_house_data.csv', sep = ',')"
   ]
  },
  {
   "cell_type": "code",
   "execution_count": 2,
   "metadata": {},
   "outputs": [],
   "source": [
    "##cria uma nova coluna no dataset com os dados passados\n",
    "dataset['size'] = (dataset['bedrooms'] * 20)"
   ]
  },
  {
   "cell_type": "code",
   "execution_count": 3,
   "metadata": {},
   "outputs": [
    {
     "data": {
      "text/plain": [
       "0         60.0\n",
       "1         60.0\n",
       "2         40.0\n",
       "3         80.0\n",
       "4         60.0\n",
       "5         80.0\n",
       "6         60.0\n",
       "7         60.0\n",
       "8         60.0\n",
       "9         60.0\n",
       "10        60.0\n",
       "11        40.0\n",
       "12        60.0\n",
       "13        60.0\n",
       "14       100.0\n",
       "15        80.0\n",
       "16        60.0\n",
       "17        80.0\n",
       "18        40.0\n",
       "19        60.0\n",
       "20        80.0\n",
       "21        60.0\n",
       "22       100.0\n",
       "23        40.0\n",
       "24        60.0\n",
       "25        60.0\n",
       "26        60.0\n",
       "27        60.0\n",
       "28        60.0\n",
       "29        80.0\n",
       "         ...  \n",
       "21583     40.0\n",
       "21584     60.0\n",
       "21585     60.0\n",
       "21586     40.0\n",
       "21587     60.0\n",
       "21588     40.0\n",
       "21589     60.0\n",
       "21590     80.0\n",
       "21591     80.0\n",
       "21592     60.0\n",
       "21593    100.0\n",
       "21594     80.0\n",
       "21595     40.0\n",
       "21596    100.0\n",
       "21597     80.0\n",
       "21598     80.0\n",
       "21599     80.0\n",
       "21600    100.0\n",
       "21601     60.0\n",
       "21602     60.0\n",
       "21603     60.0\n",
       "21604     60.0\n",
       "21605     80.0\n",
       "21606     80.0\n",
       "21607     60.0\n",
       "21608     60.0\n",
       "21609     80.0\n",
       "21610     40.0\n",
       "21611     60.0\n",
       "21612     40.0\n",
       "Name: size, Length: 21613, dtype: float64"
      ]
     },
     "execution_count": 3,
     "metadata": {},
     "output_type": "execute_result"
    }
   ],
   "source": [
    "##mostra os dados da coluna passada como parametros\n",
    "dataset['size']"
   ]
  },
  {
   "cell_type": "code",
   "execution_count": 8,
   "metadata": {},
   "outputs": [],
   "source": [
    "##Função que categoriza os tamanhos dos imóveis do dataset\n",
    "def categoriza(s):\n",
    "    if s >= 80:\n",
    "        return 'Big'\n",
    "    elif s >= 60:\n",
    "        return 'Medium'\n",
    "    elif s >= 40:\n",
    "        return 'Small'\n",
    "    \n",
    "##utiliza o método categoriza() para criar uma nova coluna e assim acrescentar esses valores a ela com os\n",
    "##parametros passados\n",
    "dataset['cat_size'] = dataset['size'].apply(categoriza)"
   ]
  },
  {
   "cell_type": "code",
   "execution_count": 9,
   "metadata": {},
   "outputs": [
    {
     "data": {
      "text/plain": [
       "0        Medium\n",
       "1        Medium\n",
       "2         Small\n",
       "3           Big\n",
       "4        Medium\n",
       "5           Big\n",
       "6        Medium\n",
       "7        Medium\n",
       "8        Medium\n",
       "9        Medium\n",
       "10       Medium\n",
       "11        Small\n",
       "12       Medium\n",
       "13       Medium\n",
       "14          Big\n",
       "15          Big\n",
       "16       Medium\n",
       "17          Big\n",
       "18        Small\n",
       "19       Medium\n",
       "20          Big\n",
       "21       Medium\n",
       "22          Big\n",
       "23        Small\n",
       "24       Medium\n",
       "25       Medium\n",
       "26       Medium\n",
       "27       Medium\n",
       "28       Medium\n",
       "29          Big\n",
       "          ...  \n",
       "21583     Small\n",
       "21584    Medium\n",
       "21585    Medium\n",
       "21586     Small\n",
       "21587    Medium\n",
       "21588     Small\n",
       "21589    Medium\n",
       "21590       Big\n",
       "21591       Big\n",
       "21592    Medium\n",
       "21593       Big\n",
       "21594       Big\n",
       "21595     Small\n",
       "21596       Big\n",
       "21597       Big\n",
       "21598       Big\n",
       "21599       Big\n",
       "21600       Big\n",
       "21601    Medium\n",
       "21602    Medium\n",
       "21603    Medium\n",
       "21604    Medium\n",
       "21605       Big\n",
       "21606       Big\n",
       "21607    Medium\n",
       "21608    Medium\n",
       "21609       Big\n",
       "21610     Small\n",
       "21611    Medium\n",
       "21612     Small\n",
       "Name: cat_size, Length: 21613, dtype: object"
      ]
     },
     "execution_count": 9,
     "metadata": {},
     "output_type": "execute_result"
    }
   ],
   "source": [
    "##mostra os dados da coluna cat_size\n",
    "dataset['cat_size']"
   ]
  },
  {
   "cell_type": "code",
   "execution_count": 10,
   "metadata": {},
   "outputs": [
    {
     "data": {
      "text/plain": [
       "Medium    9822\n",
       "Big       8816\n",
       "Small     2759\n",
       "Name: cat_size, dtype: int64"
      ]
     },
     "execution_count": 10,
     "metadata": {},
     "output_type": "execute_result"
    }
   ],
   "source": [
    "##mostra as distribuições dos valores da coluna passada como parametro\n",
    "pd.value_counts(dataset['cat_size'])"
   ]
  },
  {
   "cell_type": "code",
   "execution_count": 11,
   "metadata": {},
   "outputs": [],
   "source": [
    "##Removendo Dados do Dataset\n",
    "##removendo uma coluna inteira do dataset\n",
    "##axis para referenciar a coluna inteira, e o inplace para que seja efetivcada no dataset\n",
    "dataset.drop(['cat_size'], axis = 1, inplace = True)"
   ]
  },
  {
   "cell_type": "code",
   "execution_count": 12,
   "metadata": {},
   "outputs": [],
   "source": [
    "## para apagar as colunas com os valores determinados\n",
    "## para quantidade de quartos iguais a 0\n",
    "dataset.drop(dataset[dataset.bedrooms == 0].index, inplace = True)"
   ]
  },
  {
   "cell_type": "code",
   "execution_count": null,
   "metadata": {},
   "outputs": [],
   "source": []
  }
 ],
 "metadata": {
  "kernelspec": {
   "display_name": "Python 3",
   "language": "python",
   "name": "python3"
  },
  "language_info": {
   "codemirror_mode": {
    "name": "ipython",
    "version": 3
   },
   "file_extension": ".py",
   "mimetype": "text/x-python",
   "name": "python",
   "nbconvert_exporter": "python",
   "pygments_lexer": "ipython3",
   "version": "3.7.0"
  }
 },
 "nbformat": 4,
 "nbformat_minor": 2
}
